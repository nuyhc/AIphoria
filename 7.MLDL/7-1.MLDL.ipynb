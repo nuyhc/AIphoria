{
 "cells": [
  {
   "cell_type": "markdown",
   "metadata": {},
   "source": [
    "# 1. AI, ML and DL\n",
    "AI = 인간의 지능을 모방하여 사람이 하는 일을 컴퓨터가 할 수 있도록하는 기술  \n",
    "머신러닝(Machine Learning, ML)과 딥러닝(Deep Learning, DL)이 대표적임  \n",
    "\n",
    "머신러닝은 주어진 데이터를 전처리하는 과정이 필수적임 (특징 추출), 딥러닝의 경우 해당 과정을 생략하게 됨 (CNN, RNN, ...)  \n",
    "\n",
    "딥러닝도 머신러닝과 크게 다르지 않음 (학습(train, learning) -> 예측(prediction))\n",
    "\n",
    "## CLF AI\n",
    "1. 지도 학습 (Supervised Learning)\n",
    "   1. 분류 (Classification)\n",
    "      1. KNN\n",
    "      2. SVM\n",
    "      3. DT\n",
    "      4. Logistic Regression\n",
    "      5. ...\n",
    "   2. 회귀 (Regression)\n",
    "      1. Linear Regression\n",
    "2. 비지도 학습 (Unsupervised Learning)\n",
    "   1. Clustering\n",
    "      1. K-means\n",
    "      2. DBSCAN\n",
    "      3. ...\n",
    "   2. Dimensionality Reduction\n",
    "      1. PCA\n",
    "      2. LDA\n",
    "      3. ...\n",
    "3. 강화 학습 (Reinforcement Learning)\n",
    "   1. MDP (Markov Decision Process)\n",
    "   2. Monte Carlo method\n",
    "\n",
    "## Deep Learning?\n",
    "신경망 원리를 모방한 심층 신경망 이론을 기반으로 고안된 **머신러닝** 방법의 일종  \n",
    "인공지능 > 머신러닝 > 딥러닝\n",
    "\n",
    "데이터 -> 모델 정의 -> 모델 컴파일(옵티마이저, 손실 함수, ...) -> 훈련 -> 예측\n",
    "\n",
    "### len(data)==1000, batch==20, epochs=10?\n",
    "가중치를 50번 업데이트를하는 것을 10번 반복 -> 최종적으로, 가중치는 500번 업데이트 됨\n",
    "\n",
    "딥러닝은 머신러닝의 한 분야지만, 심층 신경망(Deep Neural Network, NN)을 사용한다는 명백한 차이점이 있음  \n",
    "-> 심층 신경망? 데이터셋의 어떤 특성들이 중요한지 스스로에게 가르쳐 줄 수 있는 기능  \n",
    "-> [**역전파**](https://ko.wikipedia.org/wiki/%EC%97%AD%EC%A0%84%ED%8C%8C)  \n",
    "-> [**기울기 소실**](https://ko.wikipedia.org/wiki/%EA%B8%B0%EC%9A%B8%EA%B8%B0_%EC%86%8C%EB%A9%B8_%EB%AC%B8%EC%A0%9C)  \n",
    "-> [**전이 학습 & 미세튜닝**](https://dacon.io/forum/405988)"
   ]
  },
  {
   "cell_type": "markdown",
   "metadata": {},
   "source": [
    "# 2. PyTorch\n",
    "> GPU에서 텐서 조작 및 동적 신경망 구축을 위한 프레임워크, ~~미분기계~~"
   ]
  }
 ],
 "metadata": {
  "language_info": {
   "name": "python"
  },
  "orig_nbformat": 4
 },
 "nbformat": 4,
 "nbformat_minor": 2
}
