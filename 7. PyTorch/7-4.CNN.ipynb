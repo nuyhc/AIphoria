{
 "cells": [
  {
   "cell_type": "markdown",
   "metadata": {},
   "source": [
    "# 4. CNN(Convolution Neural Network)\n",
    "> 이미지 전체를 한 번에 계산 X -> 국소적 부분을 계산 => 시간&자원 절약, 세밀한 부분까지 분석\n",
    "\n",
    "- 이미지나 영상 처리, 음성인식\n",
    "- 입력층 -> 합성곱층(Conv) -> 풀링층(Pooling) -> 완전연결층(FC) -> 출력층"
   ]
  }
 ],
 "metadata": {
  "kernelspec": {
   "display_name": "torch",
   "language": "python",
   "name": "python3"
  },
  "language_info": {
   "name": "python",
   "version": "3.9.16"
  },
  "orig_nbformat": 4
 },
 "nbformat": 4,
 "nbformat_minor": 2
}
