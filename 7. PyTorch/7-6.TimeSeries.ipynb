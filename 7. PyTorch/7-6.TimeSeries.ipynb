{
 "cells": [
  {
   "cell_type": "markdown",
   "metadata": {},
   "source": [
    "# 6. 시계열 분석"
   ]
  },
  {
   "cell_type": "markdown",
   "metadata": {},
   "source": [
    "## 6-1. 시계열 문제\n",
    "> 시간에 따라 변하는 데이터를 사용하여 추이를 분석하는 것\n",
    "- 주가/환율 변동, 기온/습도 변화\n",
    "- 추세를 파악하거나 향후 전망 등을 예측하기 위한 용도\n",
    "\n",
    "### 시계열 형태(The Components of Time Series)\n",
    "1. 불규칙 변동 (irregular variation): 규칙성이 없고 예측 불가능하고 우연히 발생하는 변동\n",
    "2. 추세 변동 (trend variation): 장기적인 변화 추세 일정한 상태(stationary) -> 짧은 기간에는 찾기 어려움\n",
    "3. 순환 변동 (cyclical variation)\n",
    "4. 계절 변동 (seasonal variation)"
   ]
  },
  {
   "cell_type": "markdown",
   "metadata": {},
   "source": [
    "## 6-2. AR, MA, ARMA, ARIMA\n",
    "> 독립 변수 (independent variable)를 사용해 종속 변수(dependent variable)를 예측 -> 시간을 독립 변수로 사용\n",
    "\n",
    "### 6-2-1. AR(AutoRegressive, 자기회귀) 모델\n",
    "- 이전 관측값이, 이후 관측값에 영향을 준다는 아이디어 차용\n",
    "- $Z_t = \\phi_1Z_{t-1} + \\phi_2Z_{t-2}+ \\dots + \\phi_pZ_{t-p} + a_t$\n",
    "- $\\phi$ = 과거가 현재에 미치는 영향을 나타내는 모수 -> 이전 데이터의 상태에서 현재 데이터의 상태를 추론\n",
    "\n",
    "### 6-2-2. MA(Moving Average, 이동평균) 모델\n",
    "- 트렌드가 변화하는 상황에 적합한 회귀 모델\n",
    "- 윈도우 개념 적용 -> 시계열을 따라 윈도우 크기만큼 슬라이딩(moving)됨\n",
    "- $Z_t = \\theta_1 a_{t-1} + \\theta_2 a_{t_2} + \\dots + \\theta_p a_{t-p} + a_t$\n",
    "- $\\theta$ = 매개변수, $a$ = 과거 시점의 오차 -> 이전 데이터의 오차에서 현재 데이터의 상태를 추론\n",
    "\n",
    "### 6-2-3. ARMA(AutoRegressive Moving Average, 자기 회귀 이동 평균) 모델\n",
    "- AR과 MA를 섞은 모델\n",
    "- 과거 데이터의 선형 관계\n",
    "- $Z_t = a + \\phi_1 Z_{t-1} + \\dots + \\phi_p Z_{t-p} + \\theta_1 a_{t-1} + \\dots + \\theta_q a_{t-q} + a_t$\n",
    "\n",
    "### 6-2-4. ARIMA(AutoRegressive Intergrated Moving Average, 자기 회귀 누적 이동 평균) 모델\n",
    "- 자기 회귀와 이동 평균을 둘 다 고려\n",
    "- ARMA + 추세(cointegration)"
   ]
  },
  {
   "cell_type": "code",
   "execution_count": 7,
   "metadata": {},
   "outputs": [
    {
     "name": "stderr",
     "output_type": "stream",
     "text": [
      "c:\\Users\\nuyhc\\anaconda3\\envs\\torch\\lib\\site-packages\\statsmodels\\tsa\\base\\tsa_model.py:473: ValueWarning: No frequency information was provided, so inferred frequency MS will be used.\n",
      "  self._init_dates(dates, freq)\n",
      "c:\\Users\\nuyhc\\anaconda3\\envs\\torch\\lib\\site-packages\\statsmodels\\tsa\\base\\tsa_model.py:473: ValueWarning: No frequency information was provided, so inferred frequency MS will be used.\n",
      "  self._init_dates(dates, freq)\n",
      "c:\\Users\\nuyhc\\anaconda3\\envs\\torch\\lib\\site-packages\\statsmodels\\tsa\\base\\tsa_model.py:473: ValueWarning: No frequency information was provided, so inferred frequency MS will be used.\n",
      "  self._init_dates(dates, freq)\n"
     ]
    },
    {
     "data": {
      "text/html": [
       "<table class=\"simpletable\">\n",
       "<caption>SARIMAX Results</caption>\n",
       "<tr>\n",
       "  <th>Dep. Variable:</th>         <td>Sales</td>      <th>  No. Observations:  </th>    <td>36</td>   \n",
       "</tr>\n",
       "<tr>\n",
       "  <th>Model:</th>            <td>ARIMA(5, 1, 0)</td>  <th>  Log Likelihood     </th> <td>-199.651</td>\n",
       "</tr>\n",
       "<tr>\n",
       "  <th>Date:</th>            <td>Tue, 26 Sep 2023</td> <th>  AIC                </th>  <td>411.302</td>\n",
       "</tr>\n",
       "<tr>\n",
       "  <th>Time:</th>                <td>20:57:10</td>     <th>  BIC                </th>  <td>420.634</td>\n",
       "</tr>\n",
       "<tr>\n",
       "  <th>Sample:</th>             <td>01-01-1991</td>    <th>  HQIC               </th>  <td>414.523</td>\n",
       "</tr>\n",
       "<tr>\n",
       "  <th></th>                   <td>- 12-01-1993</td>   <th>                     </th>     <td> </td>   \n",
       "</tr>\n",
       "<tr>\n",
       "  <th>Covariance Type:</th>        <td>opg</td>       <th>                     </th>     <td> </td>   \n",
       "</tr>\n",
       "</table>\n",
       "<table class=\"simpletable\">\n",
       "<tr>\n",
       "     <td></td>       <th>coef</th>     <th>std err</th>      <th>z</th>      <th>P>|z|</th>  <th>[0.025</th>    <th>0.975]</th>  \n",
       "</tr>\n",
       "<tr>\n",
       "  <th>ar.L1</th>  <td>   -0.8788</td> <td>    0.227</td> <td>   -3.876</td> <td> 0.000</td> <td>   -1.323</td> <td>   -0.434</td>\n",
       "</tr>\n",
       "<tr>\n",
       "  <th>ar.L2</th>  <td>   -0.2787</td> <td>    0.232</td> <td>   -1.203</td> <td> 0.229</td> <td>   -0.733</td> <td>    0.176</td>\n",
       "</tr>\n",
       "<tr>\n",
       "  <th>ar.L3</th>  <td>   -0.0076</td> <td>    0.270</td> <td>   -0.028</td> <td> 0.978</td> <td>   -0.536</td> <td>    0.521</td>\n",
       "</tr>\n",
       "<tr>\n",
       "  <th>ar.L4</th>  <td>    0.3483</td> <td>    0.294</td> <td>    1.185</td> <td> 0.236</td> <td>   -0.228</td> <td>    0.924</td>\n",
       "</tr>\n",
       "<tr>\n",
       "  <th>ar.L5</th>  <td>    0.3772</td> <td>    0.207</td> <td>    1.826</td> <td> 0.068</td> <td>   -0.028</td> <td>    0.782</td>\n",
       "</tr>\n",
       "<tr>\n",
       "  <th>sigma2</th> <td> 5049.2115</td> <td> 1540.731</td> <td>    3.277</td> <td> 0.001</td> <td> 2029.435</td> <td> 8068.988</td>\n",
       "</tr>\n",
       "</table>\n",
       "<table class=\"simpletable\">\n",
       "<tr>\n",
       "  <th>Ljung-Box (L1) (Q):</th>     <td>0.39</td> <th>  Jarque-Bera (JB):  </th> <td>1.60</td>\n",
       "</tr>\n",
       "<tr>\n",
       "  <th>Prob(Q):</th>                <td>0.53</td> <th>  Prob(JB):          </th> <td>0.45</td>\n",
       "</tr>\n",
       "<tr>\n",
       "  <th>Heteroskedasticity (H):</th> <td>1.43</td> <th>  Skew:              </th> <td>0.38</td>\n",
       "</tr>\n",
       "<tr>\n",
       "  <th>Prob(H) (two-sided):</th>    <td>0.54</td> <th>  Kurtosis:          </th> <td>2.28</td>\n",
       "</tr>\n",
       "</table><br/><br/>Warnings:<br/>[1] Covariance matrix calculated using the outer product of gradients (complex-step)."
      ],
      "text/latex": [
       "\\begin{center}\n",
       "\\begin{tabular}{lclc}\n",
       "\\toprule\n",
       "\\textbf{Dep. Variable:}          &      Sales       & \\textbf{  No. Observations:  } &     36      \\\\\n",
       "\\textbf{Model:}                  &  ARIMA(5, 1, 0)  & \\textbf{  Log Likelihood     } &  -199.651   \\\\\n",
       "\\textbf{Date:}                   & Tue, 26 Sep 2023 & \\textbf{  AIC                } &  411.302    \\\\\n",
       "\\textbf{Time:}                   &     20:57:10     & \\textbf{  BIC                } &  420.634    \\\\\n",
       "\\textbf{Sample:}                 &    01-01-1991    & \\textbf{  HQIC               } &  414.523    \\\\\n",
       "\\textbf{}                        &   - 12-01-1993   & \\textbf{                     } &             \\\\\n",
       "\\textbf{Covariance Type:}        &       opg        & \\textbf{                     } &             \\\\\n",
       "\\bottomrule\n",
       "\\end{tabular}\n",
       "\\begin{tabular}{lcccccc}\n",
       "                & \\textbf{coef} & \\textbf{std err} & \\textbf{z} & \\textbf{P$> |$z$|$} & \\textbf{[0.025} & \\textbf{0.975]}  \\\\\n",
       "\\midrule\n",
       "\\textbf{ar.L1}  &      -0.8788  &        0.227     &    -3.876  &         0.000        &       -1.323    &       -0.434     \\\\\n",
       "\\textbf{ar.L2}  &      -0.2787  &        0.232     &    -1.203  &         0.229        &       -0.733    &        0.176     \\\\\n",
       "\\textbf{ar.L3}  &      -0.0076  &        0.270     &    -0.028  &         0.978        &       -0.536    &        0.521     \\\\\n",
       "\\textbf{ar.L4}  &       0.3483  &        0.294     &     1.185  &         0.236        &       -0.228    &        0.924     \\\\\n",
       "\\textbf{ar.L5}  &       0.3772  &        0.207     &     1.826  &         0.068        &       -0.028    &        0.782     \\\\\n",
       "\\textbf{sigma2} &    5049.2115  &     1540.731     &     3.277  &         0.001        &     2029.435    &     8068.988     \\\\\n",
       "\\bottomrule\n",
       "\\end{tabular}\n",
       "\\begin{tabular}{lclc}\n",
       "\\textbf{Ljung-Box (L1) (Q):}     & 0.39 & \\textbf{  Jarque-Bera (JB):  } & 1.60  \\\\\n",
       "\\textbf{Prob(Q):}                & 0.53 & \\textbf{  Prob(JB):          } & 0.45  \\\\\n",
       "\\textbf{Heteroskedasticity (H):} & 1.43 & \\textbf{  Skew:              } & 0.38  \\\\\n",
       "\\textbf{Prob(H) (two-sided):}    & 0.54 & \\textbf{  Kurtosis:          } & 2.28  \\\\\n",
       "\\bottomrule\n",
       "\\end{tabular}\n",
       "%\\caption{SARIMAX Results}\n",
       "\\end{center}\n",
       "\n",
       "Warnings: \\newline\n",
       " [1] Covariance matrix calculated using the outer product of gradients (complex-step)."
      ],
      "text/plain": [
       "<class 'statsmodels.iolib.summary.Summary'>\n",
       "\"\"\"\n",
       "                               SARIMAX Results                                \n",
       "==============================================================================\n",
       "Dep. Variable:                  Sales   No. Observations:                   36\n",
       "Model:                 ARIMA(5, 1, 0)   Log Likelihood                -199.651\n",
       "Date:                Tue, 26 Sep 2023   AIC                            411.302\n",
       "Time:                        20:57:10   BIC                            420.634\n",
       "Sample:                    01-01-1991   HQIC                           414.523\n",
       "                         - 12-01-1993                                         \n",
       "Covariance Type:                  opg                                         \n",
       "==============================================================================\n",
       "                 coef    std err          z      P>|z|      [0.025      0.975]\n",
       "------------------------------------------------------------------------------\n",
       "ar.L1         -0.8788      0.227     -3.876      0.000      -1.323      -0.434\n",
       "ar.L2         -0.2787      0.232     -1.203      0.229      -0.733       0.176\n",
       "ar.L3         -0.0076      0.270     -0.028      0.978      -0.536       0.521\n",
       "ar.L4          0.3483      0.294      1.185      0.236      -0.228       0.924\n",
       "ar.L5          0.3772      0.207      1.826      0.068      -0.028       0.782\n",
       "sigma2      5049.2115   1540.731      3.277      0.001    2029.435    8068.988\n",
       "===================================================================================\n",
       "Ljung-Box (L1) (Q):                   0.39   Jarque-Bera (JB):                 1.60\n",
       "Prob(Q):                              0.53   Prob(JB):                         0.45\n",
       "Heteroskedasticity (H):               1.43   Skew:                             0.38\n",
       "Prob(H) (two-sided):                  0.54   Kurtosis:                         2.28\n",
       "===================================================================================\n",
       "\n",
       "Warnings:\n",
       "[1] Covariance matrix calculated using the outer product of gradients (complex-step).\n",
       "\"\"\""
      ]
     },
     "execution_count": 7,
     "metadata": {},
     "output_type": "execute_result"
    }
   ],
   "source": [
    "import pandas as pd\n",
    "import statsmodels.api as sm\n",
    "import matplotlib.pyplot as plt\n",
    "from datetime import datetime\n",
    "\n",
    "# 자전거 매출 데이터\n",
    "series = pd.read_csv(\"../data/sales.csv\", header=0, parse_dates=[0], index_col=0, date_parser=lambda x: datetime.strptime(\"199\"+x, \"%Y-%m\")).squeeze()\n",
    "#\n",
    "model = sm.tsa.arima.ARIMA(series, order=(5, 1, 0)) # p:자기 회귀 차수, d: 차분 차수, q: 이동 평균 차수\n",
    "model_fit = model.fit()\n",
    "#\n",
    "model_fit.summary()"
   ]
  },
  {
   "cell_type": "code",
   "execution_count": 23,
   "metadata": {},
   "outputs": [
    {
     "data": {
      "text/plain": [
       "<Figure size 700x300 with 0 Axes>"
      ]
     },
     "metadata": {},
     "output_type": "display_data"
    },
    {
     "data": {
      "image/png": "[encoded data removed]",
      "text/plain": [
       "<Figure size 640x480 with 1 Axes>"
      ]
     },
     "metadata": {},
     "output_type": "display_data"
    },
    {
     "data": {
      "image/png": "[encoded data removed]",
      "text/plain": [
       "<Figure size 640x480 with 1 Axes>"
      ]
     },
     "metadata": {},
     "output_type": "display_data"
    }
   ],
   "source": [
    "res = pd.DataFrame(model_fit.resid)\n",
    "plt.figure(figsize=(7, 3))\n",
    "#\n",
    "res.plot()\n",
    "#\n",
    "res.plot(kind=\"kde\")\n",
    "plt.show()"
   ]
  },
  {
   "cell_type": "code",
   "execution_count": 30,
   "metadata": {},
   "outputs": [
    {
     "name": "stdout",
     "output_type": "stream",
     "text": [
      "Pred: 352.86, Expected: 346.30\n",
      "Pred: 277.40, Expected: 329.70\n",
      "Pred: 368.75, Expected: 445.40\n",
      "Pred: 331.77, Expected: 325.90\n",
      "Pred: 372.07, Expected: 449.30\n",
      "Pred: 360.02, Expected: 411.30\n",
      "Pred: 454.53, Expected: 417.40\n",
      "Pred: 388.69, Expected: 545.50\n",
      "Pred: 437.63, Expected: 477.60\n",
      "Pred: 516.44, Expected: 687.00\n",
      "Pred: 520.92, Expected: 435.30\n",
      "Pred: 675.59, Expected: 587.30\n",
      "Pred: 505.20, Expected: 676.90\n",
      "\n",
      "Test MSE: 9118.818\n"
     ]
    },
    {
     "data": {
      "image/png": "[encoded data removed]",
      "text/plain": [
       "<Figure size 640x480 with 1 Axes>"
      ]
     },
     "metadata": {},
     "output_type": "display_data"
    }
   ],
   "source": [
    "import numpy as np\n",
    "import koreanize_matplotlib\n",
    "from sklearn.metrics import mean_squared_error\n",
    "\n",
    "X = series.values\n",
    "X = np.nan_to_num(X)\n",
    "size = int(len(X)*0.66)\n",
    "train, test = X[:size], X[size:]\n",
    "history = [x for x in train]\n",
    "pred = list()\n",
    "#\n",
    "for t in range(len(test)):\n",
    "    model = sm.tsa.arima.ARIMA(history, order=(5, 1, 0))\n",
    "    model_fit = model.fit()\n",
    "    output = model_fit.forecast()\n",
    "    yhat = output[0]\n",
    "    pred.append(yhat)\n",
    "    obs = test[t]\n",
    "    history.append(obs)\n",
    "    print(f\"Pred: {yhat:.2f}, Expected: {obs:.2f}\")\n",
    "error = mean_squared_error(test, pred)\n",
    "print(f\"\\nTest MSE: {error:.3f}\")\n",
    "#\n",
    "plt.plot(test, color=\"red\", linestyle=\":\")\n",
    "plt.plot(pred, color=\"blue\")\n",
    "plt.legend([\"실제\", \"예측\"])\n",
    "plt.show()"
   ]
  },
  {
   "cell_type": "markdown",
   "metadata": {},
   "source": [
    "## 6-3. RNN (Recurrent Neural Network)\n",
    "![RNN](https://miro.medium.com/v2/resize:fit:1400/0*V5Q5gGhiDGurHd-z.png)\n",
    "\n",
    "\n",
    "- 시간적으로 연속성이 있는 데이터를 처리하기 위해 고안된 인공 신경망\n",
    "- 이전 은닉층이 현재 은닉층의 입력이 되면서 반복되는 순환 구조를 갖음\n",
    "- 기억 = 현재까지 입력 데이터를 요약한 정보"
   ]
  },
  {
   "cell_type": "markdown",
   "metadata": {},
   "source": [
    "### RNN 유형\n",
    "![RNN Type](https://blog.kakaocdn.net/dn/ZMIHH/btqISuYWJBv/b0yfFKD9raXfhkuWC2uLY0/img.png)\n",
    "1. 일대일: 순환이 없기 때문에 사실상, 순방향 네트워크\n",
    "2. 일대다: 입력이 하나이고 출력이 다수인 구조 (이미지 캡션)\n",
    "3. 다대일: 입력이 다수이고 출력이 하나인 구조 (문장 -> 긍/부정 판별)\n",
    "4. 다대다: 입력과 출력이 다수인 구조 (자동 번역)\n",
    "5. 동기화 다대다: 다음에 나올 ㄷ단어 예측, 프레임 수준의 비디오 분류"
   ]
  },
  {
   "cell_type": "markdown",
   "metadata": {},
   "source": [
    "### 6-3-1. RNN 계층과 셀\n",
    "- RNN 계층(layer): 입력된 배치 순서대로 모두 처리\n",
    "- RNN 셀(cell): 오직 하나의 단계(time step)만 처리"
   ]
  },
  {
   "cell_type": "code",
   "execution_count": null,
   "metadata": {},
   "outputs": [],
   "source": [
    "import torch.nn as nn\n",
    "\n",
    "nn.RNNCell # SimpleRNN 계층 RNN 셀\n",
    "nn.GRUCell # GRU 계층 GRU 셀\n",
    "nn.LSTMCell # LSTM 계층 LSTM 셀"
   ]
  },
  {
   "cell_type": "markdown",
   "metadata": {},
   "source": [
    "### 6-3-2. RNN 구조\n",
    "- 은닉층 노드들이 연결되어 이전 단계 정보를 은닉층 노드에 저장할 수 있도록 구성한 신경망\n",
    "- 3개의 가중치를 갖음\n",
    "  - $W_{xh}$: 입력층 -> 은닉층\n",
    "  - $W_{hh}$: t 시점의 은닉층 -> t+1 시점의 은닉층\n",
    "  - $W_{hy}$: 은닉층 -> 출력층\n",
    "\n",
    "#### RNN 계산\n",
    "- 은닉층:\n",
    "  - 이전 은닉층X은닉층 -> 은닉층 가중치+입력층 -> 은닉층 가중치X(현재)입력값\n",
    "  - $h_t = tanh(\\hat y_t)$\n",
    "  - $\\hat y_t = W_{hh} \\times h_{t-1} + W_{xh} \\times x_t$\n",
    "- 출력층:\n",
    "  - softmax(은닉층 -> 출력층 가중치X현재 은닉층)\n",
    "  - $\\hat y_t = softmax(W_{hy} \\times h_t)$\n",
    "- 오차(E): 각 단계(t)마다 오차를 측정\n",
    "- 역전파:\n",
    "  - BPTT(BackPropagation Through Time)를 이용해 모든 단계마다 처음부터 끝까지 역전파\n",
    "  - 계산된 오차를 이용해, $W_{xh}, W_{hh}, W_{yh}, bias$ 업데이트\n",
    "  - 오차가 멀리 전파되면, 기울기 소실(gradient vanishing) + 계산량 증가 -> 생략된-BPTT or GRU or LSTM\n",
    "\n",
    "### 6-3-3. RNN 셀 구현"
   ]
  },
  {
   "cell_type": "code",
   "execution_count": 1,
   "metadata": {},
   "outputs": [],
   "source": [
    "import torch\n",
    "import torchtext # NLP Dataloader, 파일 로드 / 토큰화 / 단어 집합 생성 / 인코딩 / 벡터화 ...\n",
    "import numpy as np\n",
    "import torch.nn as nn\n",
    "import torch.nn.functional as F\n",
    "import time"
   ]
  },
  {
   "cell_type": "code",
   "execution_count": 2,
   "metadata": {},
   "outputs": [],
   "source": [
    "# 데이터 전처리\n",
    "start = time.time()\n",
    "TEXT = torchtext.data.Field(lower=True, fix_length=200, batch_first=False)\n",
    "LABEL = torchtext.data.Field(sequential=False)\n",
    "# 데이터셋 -> IMDB\n",
    "train_data, test_data = torchtext.datasets.IMDB.splits(TEXT, LABEL)"
   ]
  },
  {
   "cell_type": "code",
   "execution_count": 3,
   "metadata": {},
   "outputs": [
    {
     "name": "stdout",
     "output_type": "stream",
     "text": [
      "{'text': ['bromwell', 'high', 'is', 'a', 'cartoon', 'comedy.', 'it', 'ran', 'at', 'the', 'same', 'time', 'as', 'some', 'other', 'programs', 'about', 'school', 'life,', 'such', 'as', '\"teachers\".', 'my', '35', 'years', 'in', 'the', 'teaching', 'profession', 'lead', 'me', 'to', 'believe', 'that', 'bromwell', \"high's\", 'satire', 'is', 'much', 'closer', 'to', 'reality', 'than', 'is', '\"teachers\".', 'the', 'scramble', 'to', 'survive', 'financially,', 'the', 'insightful', 'students', 'who', 'can', 'see', 'right', 'through', 'their', 'pathetic', \"teachers'\", 'pomp,', 'the', 'pettiness', 'of', 'the', 'whole', 'situation,', 'all', 'remind', 'me', 'of', 'the', 'schools', 'i', 'knew', 'and', 'their', 'students.', 'when', 'i', 'saw', 'the', 'episode', 'in', 'which', 'a', 'student', 'repeatedly', 'tried', 'to', 'burn', 'down', 'the', 'school,', 'i', 'immediately', 'recalled', '.........', 'at', '..........', 'high.', 'a', 'classic', 'line:', 'inspector:', \"i'm\", 'here', 'to', 'sack', 'one', 'of', 'your', 'teachers.', 'student:', 'welcome', 'to', 'bromwell', 'high.', 'i', 'expect', 'that', 'many', 'adults', 'of', 'my', 'age', 'think', 'that', 'bromwell', 'high', 'is', 'far', 'fetched.', 'what', 'a', 'pity', 'that', 'it', \"isn't!\"], 'label': 'pos'}\n"
     ]
    }
   ],
   "source": [
    "print(vars(train_data.examples[0]))"
   ]
  },
  {
   "cell_type": "code",
   "execution_count": 4,
   "metadata": {},
   "outputs": [
    {
     "name": "stdout",
     "output_type": "stream",
     "text": [
      "Train: 20000\n",
      "Valid: 5000\n",
      "Test: 25000\n"
     ]
    }
   ],
   "source": [
    "# 전처리 적용\n",
    "import string\n",
    "\n",
    "for example in train_data.examples:\n",
    "    text = [x.lower() for x in vars(example)[\"text\"]]\n",
    "    text = [x.replace(\"<br\", \"\") for x in text]\n",
    "    text = [\"\".join(c for c in s if c not in string.punctuation) for s in text]\n",
    "    text = [s for s in text if s]\n",
    "    vars(example)[\"text\"] = text\n",
    "    \n",
    "# train, valid\n",
    "import random\n",
    "\n",
    "train_data, valid_data = train_data.split(random_state=random.seed(0), split_ratio=0.8)\n",
    "#\n",
    "print(f\"Train: {len(train_data)}\")\n",
    "print(f\"Valid: {len(valid_data)}\")\n",
    "print(f\"Test: {len(test_data)}\")"
   ]
  },
  {
   "cell_type": "code",
   "execution_count": 5,
   "metadata": {},
   "outputs": [
    {
     "name": "stdout",
     "output_type": "stream",
     "text": [
      "Unique Tokens in TEXT: 10002\n",
      "Unique Tokens in LABEL: 3\n"
     ]
    }
   ],
   "source": [
    "# 단어 집합 만들기\n",
    "# 데이터셋에 포함된 단어들을 하나의 딕셔너리와 같은 집합으로 만드는 것 -> 단어들의 중복 제거\n",
    "TEXT.build_vocab(train_data, max_size=10000, min_freq=10, vectors=None)\n",
    "LABEL.build_vocab(train_data)\n",
    "#\n",
    "print(f\"Unique Tokens in TEXT: {len(TEXT.vocab)}\")\n",
    "print(f\"Unique Tokens in LABEL: {len(LABEL.vocab)}\")"
   ]
  },
  {
   "cell_type": "code",
   "execution_count": 6,
   "metadata": {},
   "outputs": [
    {
     "data": {
      "text/plain": [
       "defaultdict(<bound method Vocab._default_unk_index of <torchtext.vocab.Vocab object at 0x0000025A0A1D5B20>>,\n",
       "            {'<unk>': 0, 'pos': 1, 'neg': 2})"
      ]
     },
     "execution_count": 6,
     "metadata": {},
     "output_type": "execute_result"
    }
   ],
   "source": [
    "LABEL.vocab.stoi"
   ]
  },
  {
   "cell_type": "code",
   "execution_count": 7,
   "metadata": {},
   "outputs": [],
   "source": [
    "# 데이터셋 -> 메모리\n",
    "BATCH_SIZE = 64\n",
    "device = torch.device(\"cuda\" if torch.cuda.is_available() else \"cpu\")\n",
    "#\n",
    "embeding_dim = 100\n",
    "hidden_size = 300\n",
    "#\n",
    "train_iterator, valid_iterator, test_iterator = torchtext.data.BucketIterator.splits((train_data, valid_data, test_data), batch_size=BATCH_SIZE, device=device)"
   ]
  },
  {
   "cell_type": "code",
   "execution_count": 8,
   "metadata": {},
   "outputs": [],
   "source": [
    "# 워드 임베딩 및 RNN 셀\n",
    "class RNNCell_Encoder(nn.Module):\n",
    "    def __init__(self, input_dim, hidden_size):\n",
    "        super(RNNCell_Encoder, self).__init__()\n",
    "        self.rnn = nn.RNNCell(input_dim, hidden_size)\n",
    "    def forward(self, inputs):\n",
    "        bz = inputs.shape[1]\n",
    "        ht = torch.zeros((bz, hidden_size)).to(device)\n",
    "        for word in inputs:\n",
    "            ht = self.rnn(word, ht)\n",
    "        return ht\n",
    "    \n",
    "class Net(nn.Module):\n",
    "    def __init__(self):\n",
    "        super(Net, self).__init__()\n",
    "        self.em = nn.Embedding(len(TEXT.vocab.stoi), embeding_dim)\n",
    "        self.rnn = RNNCell_Encoder(embeding_dim, hidden_size)\n",
    "        self.fc1 = nn.Linear(hidden_size, 256)\n",
    "        self.fc2 = nn.Linear(256, 3)\n",
    "    def forward(self, x):\n",
    "        x = self.em(x)\n",
    "        x = self.rnn(x)\n",
    "        x = F.relu(self.fc1(x))\n",
    "        x = self.fc2(x)\n",
    "        return x"
   ]
  },
  {
   "cell_type": "code",
   "execution_count": 9,
   "metadata": {},
   "outputs": [],
   "source": [
    "model = Net()\n",
    "model.to(device)\n",
    "#\n",
    "loss_fn = nn.CrossEntropyLoss()\n",
    "optimizer = torch.optim.Adam(model.parameters(), lr=0.0001)"
   ]
  },
  {
   "cell_type": "code",
   "execution_count": 14,
   "metadata": {},
   "outputs": [],
   "source": [
    "def training(epoch, model, trainloader, validloader):\n",
    "    correct = 0\n",
    "    total = 0\n",
    "    running_loss = 0\n",
    "    #\n",
    "    model.train()\n",
    "    for b in trainloader:\n",
    "        x, y = b.text, b.label\n",
    "        x, y = x.to(device), y.to(device)\n",
    "        y_pred = model(x)\n",
    "        loss = loss_fn(y_pred, y)\n",
    "        optimizer.zero_grad()\n",
    "        loss.backward()\n",
    "        optimizer.step()\n",
    "        with torch.no_grad():\n",
    "            y_pred = torch.argmax(y_pred, dim=1)\n",
    "            correct += (y_pred == y).sum().item()\n",
    "            total += y.size(0)\n",
    "            running_loss += loss.item()\n",
    "    epoch_loss = running_loss / len(trainloader.dataset)\n",
    "    epoch_acc = correct / total\n",
    "    #\n",
    "    valid_correct = 0\n",
    "    valid_total = 0\n",
    "    valid_running_loss = 0\n",
    "    #\n",
    "    model.eval()\n",
    "    with torch.no_grad():\n",
    "        for b in validloader:\n",
    "            x, y = b.text, b.label\n",
    "            x, y = x.to(device), y.to(device)\n",
    "            y_pred = model(x)\n",
    "            loss = loss_fn(y_pred, y)\n",
    "            y_pred = torch.argmax(y_pred, dim=1)\n",
    "            valid_correct += (y_pred == y).sum().item()\n",
    "            valid_total += y.size(0)\n",
    "            valid_running_loss += loss.item()\n",
    "    #\n",
    "    epoch_valid_loss = valid_running_loss / len(validloader.dataset)\n",
    "    epoch_valid_acc = valid_correct / valid_total\n",
    "    #\n",
    "    print('epoch: ', epoch,\n",
    "          'loss： ', round(epoch_loss, 3),\n",
    "          'accuracy:', round(epoch_acc, 3),\n",
    "          'valid_loss： ', round(epoch_valid_loss, 3),\n",
    "          'valid_accuracy:', round(epoch_valid_acc, 3)\n",
    "          )\n",
    "    return epoch_loss, epoch_acc, epoch_valid_loss, epoch_valid_acc"
   ]
  },
  {
   "cell_type": "code",
   "execution_count": 15,
   "metadata": {},
   "outputs": [
    {
     "name": "stdout",
     "output_type": "stream",
     "text": [
      "epoch:  0 loss：  0.011 accuracy: 0.552 valid_loss：  0.011 valid_accuracy: 0.497\n",
      "epoch:  1 loss：  0.01 accuracy: 0.561 valid_loss：  0.011 valid_accuracy: 0.514\n",
      "epoch:  2 loss：  0.01 accuracy: 0.569 valid_loss：  0.011 valid_accuracy: 0.503\n",
      "epoch:  3 loss：  0.01 accuracy: 0.576 valid_loss：  0.011 valid_accuracy: 0.507\n",
      "epoch:  4 loss：  0.01 accuracy: 0.583 valid_loss：  0.011 valid_accuracy: 0.496\n",
      "\n",
      "423.40938782691956\n"
     ]
    }
   ],
   "source": [
    "epochs = 5\n",
    "train_loss, train_acc = [], []\n",
    "valid_loss, valid_acc = [], []\n",
    "\n",
    "for epoch in range(epochs):\n",
    "    epoch_loss, epoch_acc, epoch_valid_loss, epoch_valid_acc = training(epoch, model, train_iterator, valid_iterator)\n",
    "    train_loss.append(epoch_loss)\n",
    "    train_acc.append(epoch_acc)\n",
    "    valid_loss.append(epoch_valid_loss)\n",
    "    valid_acc.append(epoch_valid_acc)\n",
    "print()\n",
    "end = time.time()\n",
    "print(end-start)"
   ]
  },
  {
   "cell_type": "code",
   "execution_count": 16,
   "metadata": {},
   "outputs": [],
   "source": [
    "def evaluate(epoch, model, testloader):    \n",
    "    test_correct = 0\n",
    "    test_total = 0\n",
    "    test_running_loss = 0\n",
    "    \n",
    "    model.eval()\n",
    "    with torch.no_grad():\n",
    "        for b in testloader:\n",
    "            x, y = b.text, b.label\n",
    "            x, y = x.to(device), y.to(device)\n",
    "            y_pred = model(x)\n",
    "            loss = loss_fn(y_pred, y)\n",
    "            y_pred = torch.argmax(y_pred, dim=1)\n",
    "            test_correct += (y_pred == y).sum().item()\n",
    "            test_total += y.size(0)\n",
    "            test_running_loss += loss.item()\n",
    "\n",
    "    epoch_test_loss = test_running_loss / len(testloader.dataset)\n",
    "    epoch_test_acc = test_correct / test_total\n",
    "\n",
    "    print('epoch: ', epoch,\n",
    "          'test_loss： ', round(epoch_test_loss, 3),\n",
    "          'test_accuracy:', round(epoch_test_acc, 3)\n",
    "          )\n",
    "    return epoch_test_loss, epoch_test_acc"
   ]
  },
  {
   "cell_type": "code",
   "execution_count": 17,
   "metadata": {},
   "outputs": [
    {
     "name": "stdout",
     "output_type": "stream",
     "text": [
      "epoch:  0 test_loss：  0.011 test_accuracy: 0.513\n",
      "epoch:  1 test_loss：  0.011 test_accuracy: 0.513\n",
      "epoch:  2 test_loss：  0.011 test_accuracy: 0.513\n",
      "epoch:  3 test_loss：  0.011 test_accuracy: 0.513\n",
      "epoch:  4 test_loss：  0.011 test_accuracy: 0.513\n",
      "480.1852660179138\n"
     ]
    }
   ],
   "source": [
    "epochs = 5\n",
    "test_loss, test_acc = [], []\n",
    "\n",
    "for epoch in range(epochs):\n",
    "    epoch_test_loss, epoch_test_acc = evaluate(epoch, model, test_iterator)\n",
    "    test_loss.append(epoch_test_loss)\n",
    "    test_acc.append(epoch_test_acc)\n",
    "\n",
    "end = time.time()\n",
    "print(end-start)"
   ]
  },
  {
   "cell_type": "markdown",
   "metadata": {},
   "source": [
    "### 6-3-4. RNN 계층 구현"
   ]
  },
  {
   "cell_type": "code",
   "execution_count": 19,
   "metadata": {},
   "outputs": [],
   "source": [
    "start=time.time()\n",
    "\n",
    "TEXT = torchtext.data.Field(sequential = True, batch_first = True, lower = True)\n",
    "LABEL = torchtext.data.Field(sequential = False, batch_first = True) \n",
    "#\n",
    "train_data, test_data = torchtext.datasets.IMDB.splits(TEXT, LABEL)\n",
    "train_data, valid_data = train_data.split(split_ratio = 0.8)\n",
    "#\n",
    "TEXT.build_vocab(train_data, max_size=10000, min_freq=10, vectors=None)\n",
    "LABEL.build_vocab(train_data)\n",
    "#\n",
    "BATCH_SIZE = 100\n",
    "device = torch.device('cuda' if torch.cuda.is_available() else 'cpu')\n",
    "#\n",
    "train_iterator, valid_iterator, test_iterator = torchtext.data.BucketIterator.splits((train_data, valid_data, test_data), batch_size = BATCH_SIZE,device = device)\n",
    "#\n",
    "vocab_size = len(TEXT.vocab)\n",
    "n_classes = 2  "
   ]
  },
  {
   "cell_type": "code",
   "execution_count": 20,
   "metadata": {},
   "outputs": [],
   "source": [
    "class BasicRNN(nn.Module):\n",
    "    def __init__(self, n_layers, hidden_dim, n_vocab, embed_dim, n_classes, dropout_p=0.2):\n",
    "        super(BasicRNN, self).__init__()\n",
    "        self.n_layers = n_layers\n",
    "        self.embed = nn.Embedding(n_vocab, embed_dim)\n",
    "        self.hidden_dim = hidden_dim\n",
    "        self.dropout = nn.Dropout(dropout_p)\n",
    "        self.rnn = nn.RNN(embed_dim, self.hidden_dim, num_layers=self.n_layers, batch_first=True)\n",
    "        self.out = nn.Linear(self.hidden_dim, n_classes)\n",
    "    def forward(self, x):\n",
    "        x = self.embed(x)\n",
    "        h_0 = self._init_state(batch_size=x.size(0)) # 최초 은닉 상태 = 0\n",
    "        x, _ = self.rnn(x, h_0)\n",
    "        h_t = x[:, -1, :] # 마지막 임베딩 값\n",
    "        self.dropout(h_t)\n",
    "        logit = torch.sigmoid(self.out(h_t))\n",
    "        return logit\n",
    "    def _init_state(self, batch_size=1):\n",
    "        weight = next(self.parameters()).data\n",
    "        return weight.new(self.n_layers, batch_size, self.hidden_dim).zero_()"
   ]
  },
  {
   "cell_type": "code",
   "execution_count": 21,
   "metadata": {},
   "outputs": [],
   "source": [
    "model = BasicRNN(n_layers=1, hidden_dim=256, n_vocab=vocab_size, embed_dim=128, n_classes=n_classes, dropout_p=0.5)\n",
    "model.to(device)\n",
    "#\n",
    "loss_fn = nn.CrossEntropyLoss()\n",
    "optimizer = torch.optim.Adam(model.parameters(), lr=0.0001)"
   ]
  },
  {
   "cell_type": "code",
   "execution_count": 22,
   "metadata": {},
   "outputs": [],
   "source": [
    "def train(epoch, model, optimizer, train_iter):\n",
    "    model.train()\n",
    "    for b, batch in enumerate(train_iter):\n",
    "        x, y = batch.text.to(device), batch.label.to(device)\n",
    "        y.data.sub_(1) # 1 2 -> 0 1\n",
    "        optimizer.zero_grad()\n",
    "        #\n",
    "        logit = model(x)\n",
    "        loss = F.cross_entropy(logit, y)\n",
    "        loss.backward()\n",
    "        optimizer.step()\n",
    "        if b%50==0:\n",
    "            print(f\"Train Epoch: {epoch} [{b*len(x)}/{len(train_iter.dataset)} ({100*b/len(train_iter):.0f}%)\\tLoss: {loss.item():.6f}]\")\n",
    "\n",
    "def evaluate(model, val_iter):\n",
    "    model.eval()\n",
    "    corrects, total, total_loss = 0, 0, 0\n",
    "    #\n",
    "    for batch in val_iter:\n",
    "        x, y = batch.text.to(device), batch.label.to(device)\n",
    "        y.data.sub_(1)\n",
    "        logit = model(x)\n",
    "        loss = F.cross_entropy(logit, y, reduction=\"sum\")\n",
    "        total += y.size(0)\n",
    "        total_loss += loss.item()\n",
    "        corrects += (logit.max(1)[1].view(y.size()).data==y.data).sum()\n",
    "    #\n",
    "    avg_loss = total_loss / len(val_iter.dataset)\n",
    "    avg_accuracy = corrects / total\n",
    "    return avg_loss, avg_accuracy"
   ]
  },
  {
   "cell_type": "code",
   "execution_count": 23,
   "metadata": {},
   "outputs": [
    {
     "name": "stdout",
     "output_type": "stream",
     "text": [
      "Train Epoch: 1 [0/20000 (0%)\tLoss: 0.685868]\n",
      "Train Epoch: 1 [5000/20000 (25%)\tLoss: 0.693326]\n",
      "Train Epoch: 1 [10000/20000 (50%)\tLoss: 0.691344]\n",
      "Train Epoch: 1 [15000/20000 (75%)\tLoss: 0.699734]\n",
      "[EPOCH: 1], Validation Loss: 0.69 | Validation Accuracy: 0.49\n",
      "Train Epoch: 2 [0/20000 (0%)\tLoss: 0.694363]\n",
      "Train Epoch: 2 [5000/20000 (25%)\tLoss: 0.694545]\n",
      "Train Epoch: 2 [10000/20000 (50%)\tLoss: 0.693096]\n",
      "Train Epoch: 2 [15000/20000 (75%)\tLoss: 0.697093]\n",
      "[EPOCH: 2], Validation Loss: 0.69 | Validation Accuracy: 0.49\n",
      "Train Epoch: 3 [0/20000 (0%)\tLoss: 0.695879]\n",
      "Train Epoch: 3 [5000/20000 (25%)\tLoss: 0.692859]\n",
      "Train Epoch: 3 [10000/20000 (50%)\tLoss: 0.694086]\n",
      "Train Epoch: 3 [15000/20000 (75%)\tLoss: 0.692517]\n",
      "[EPOCH: 3], Validation Loss: 0.69 | Validation Accuracy: 0.50\n",
      "Train Epoch: 4 [0/20000 (0%)\tLoss: 0.687177]\n",
      "Train Epoch: 4 [5000/20000 (25%)\tLoss: 0.694625]\n",
      "Train Epoch: 4 [10000/20000 (50%)\tLoss: 0.691735]\n",
      "Train Epoch: 4 [15000/20000 (75%)\tLoss: 0.692278]\n",
      "[EPOCH: 4], Validation Loss: 0.69 | Validation Accuracy: 0.49\n",
      "Train Epoch: 5 [0/20000 (0%)\tLoss: 0.695154]\n",
      "Train Epoch: 5 [5000/20000 (25%)\tLoss: 0.693338]\n",
      "Train Epoch: 5 [10000/20000 (50%)\tLoss: 0.692615]\n",
      "Train Epoch: 5 [15000/20000 (75%)\tLoss: 0.686393]\n",
      "[EPOCH: 5], Validation Loss: 0.69 | Validation Accuracy: 0.50\n"
     ]
    }
   ],
   "source": [
    "BATCH_SIZE = 100\n",
    "LR = 0.001\n",
    "EPOCHS = 5\n",
    "for e in range(1, EPOCHS + 1):\n",
    "    train(e, model, optimizer, train_iterator)\n",
    "    val_loss, val_accuracy = evaluate(model, valid_iterator)\n",
    "    print(f\"[EPOCH: {e}], Validation Loss: {val_loss:.2f} | Validation Accuracy: {val_accuracy:.2f}\")"
   ]
  },
  {
   "cell_type": "code",
   "execution_count": 24,
   "metadata": {},
   "outputs": [
    {
     "name": "stdout",
     "output_type": "stream",
     "text": [
      "Test Loss: 0.70 | Test Accuracy: 0.44\n"
     ]
    }
   ],
   "source": [
    "test_loss, test_acc = evaluate(model, test_iterator)\n",
    "print(f\"Test Loss: {test_loss:.2f} | Test Accuracy: {test_acc:.2f}\")"
   ]
  },
  {
   "cell_type": "markdown",
   "metadata": {},
   "source": [
    "## 6-4. LSTM\n",
    "- RNN: 가중치 업데이트 과정에서 1보다 작은 값이 계속 곱해짐 -> 기울기 소멸\n",
    "- 기울기 소멸 문제를 해결하기 위해, LSTM이나 GRU 사용\n",
    "\n",
    "### LSTM 구조\n",
    "#### LSTM 순전파\n",
    "- 망각, 입력, 출력 게이트를 은칙층의 추가 (기울기 소멸 문제 해결)\n",
    "\n",
    "![LSTM](https://velog.velcdn.com/images/soup1997/post/d8e2cbf1-319d-4d65-aa11-4892381354e6/image.png)\n",
    "\n",
    "##### 망각 게이트(Forget Gate)\n",
    "- 과거 정보를 어느 정도 기억할지 결정\n",
    "- Sigmoid(과거 정보 + 현재 데이터) * 과거 정보 -> 0=과거 정보 버림, 1=과거 정보 보존\n",
    "\n",
    "##### 입력 게이트(Input Gate)\n",
    "- 현재 정보를 기억하기 위해 만들어짐\n",
    "- 과거 정보와 현재 데이터를 입력받아 시그모이드와 하이퍼볼릭 탄젠트 함수를 기반으로 현재 정보에 대한 보존량을 결정 -> 새로운 정보를 반영할지 결정하는 역할\n",
    "- 계산한 값이 1이면 허용(open), 0이면 차단\n",
    "\n",
    "##### 셀\n",
    "- 각 단계에 대한 은닉 노드(hidden node)를 메모리 셀이라고 함\n",
    "- 총합(sum)을 사용해 셀 값을 반영 -> 기울기 소멸 문제 해결\n",
    "- 망각게이트와 입력 게이트의 이전 단계 셀 정보 계산 -> 현재 단계의 셀 상태(cell state) 업데이트\n",
    "\n",
    "##### 출력 게이트(Ouput Gate)\n",
    "- 과거 정보와 현재 데이터를 사용해 뉴런의 출력을 결정\n",
    "- 계산값=1이면 결과로 최종 출력, 0이면 해당 연산 출력 안함"
   ]
  },
  {
   "cell_type": "markdown",
   "metadata": {},
   "source": [
    "#### LSTM 역전파\n",
    "- 셀을 통해 역전파를 수행하기 때문에, 중단 없는 기울기(uninterrupted gradient flow)라고도 함\n",
    "- 셀 단위 오차 전파 -> 입력 방향으로 오차가 전파되지 않는 것은 아님"
   ]
  },
  {
   "cell_type": "code",
   "execution_count": 1,
   "metadata": {},
   "outputs": [],
   "source": [
    "import torch\n",
    "import torch.nn as nn\n",
    "import torchvision.transforms as transforms\n",
    "import torchvision.datasets as dataset\n",
    "from torch.autograd import Variable\n",
    "from torch.nn import Parameter\n",
    "from torch import Tensor\n",
    "import torch.nn.functional as F\n",
    "from torch.utils.data import DataLoader\n",
    "import math\n",
    "\n",
    "device = torch.device(\"cuda:0\" if torch.cuda.is_available() else \"cpu\")\n",
    "cuda = True if torch.cuda.is_available() else False\n",
    "\n",
    "Tensor = torch.cuda.FloatTensor if cuda else torch.FloatTensor\n",
    "\n",
    "torch.manual_seed(42)\n",
    "if torch.cuda.is_available():\n",
    "    torch.cuda.manual_seed_all(42)"
   ]
  },
  {
   "cell_type": "code",
   "execution_count": 4,
   "metadata": {},
   "outputs": [
    {
     "name": "stdout",
     "output_type": "stream",
     "text": [
      "Downloading http://yann.lecun.com/exdb/mnist/train-images-idx3-ubyte.gz\n",
      "Downloading http://yann.lecun.com/exdb/mnist/train-images-idx3-ubyte.gz to ../data/MNIST_DATASET\\MNIST\\raw\\train-images-idx3-ubyte.gz\n"
     ]
    },
    {
     "name": "stderr",
     "output_type": "stream",
     "text": [
      "100%|██████████| 9912422/9912422 [00:00<00:00, 18446235.19it/s]\n"
     ]
    },
    {
     "name": "stdout",
     "output_type": "stream",
     "text": [
      "Extracting ../data/MNIST_DATASET\\MNIST\\raw\\train-images-idx3-ubyte.gz to ../data/MNIST_DATASET\\MNIST\\raw\n",
      "\n",
      "Downloading http://yann.lecun.com/exdb/mnist/train-labels-idx1-ubyte.gz\n",
      "Downloading http://yann.lecun.com/exdb/mnist/train-labels-idx1-ubyte.gz to ../data/MNIST_DATASET\\MNIST\\raw\\train-labels-idx1-ubyte.gz\n"
     ]
    },
    {
     "name": "stderr",
     "output_type": "stream",
     "text": [
      "  0%|          | 0/28881 [00:00<?, ?it/s]"
     ]
    }
   ],
   "source": [
    "mnist_transform = transforms.Compose([\n",
    "    transforms.ToTensor(),\n",
    "    transforms.Normalize((0.5, ), (1.0,))\n",
    "])\n",
    "\n",
    "download_root = \"../data/MNIST_DATASET\"\n",
    "train_dataset = dataset.MNIST(download_root, transform=mnist_transform, train=True, download=True)\n",
    "valid_dataset = dataset.MNIST(download_root, transform=mnist_transform, train=False, download=True)\n",
    "test_dataset = dataset.MNIST(download_root, transform=mnist_transform, train=False, download=True)\n",
    "#\n",
    "batch_size = 64\n",
    "train_loader = DataLoader(dataset=train_dataset, batch_size=batch_size, shuffle=True)\n",
    "valid_loader = DataLoader(dataset=valid_dataset, batch_size=batch_size, shuffle=True)\n",
    "test_loader = DataLoader(dataset=test_dataset, batch_size=batch_size, shuffle=True)"
   ]
  },
  {
   "cell_type": "code",
   "execution_count": null,
   "metadata": {},
   "outputs": [],
   "source": []
  },
  {
   "cell_type": "markdown",
   "metadata": {},
   "source": [
    "## 6-5. GRU"
   ]
  },
  {
   "cell_type": "markdown",
   "metadata": {},
   "source": [
    "## 6-6. 양방향 RNN"
   ]
  }
 ],
 "metadata": {
  "kernelspec": {
   "display_name": "torch",
   "language": "python",
   "name": "python3"
  },
  "language_info": {
   "codemirror_mode": {
    "name": "ipython",
    "version": 3
   },
   "file_extension": ".py",
   "mimetype": "text/x-python",
   "name": "python",
   "nbconvert_exporter": "python",
   "pygments_lexer": "ipython3",
   "version": "3.9.16"
  },
  "orig_nbformat": 4
 },
 "nbformat": 4,
 "nbformat_minor": 2
}
