{
 "cells": [
  {
   "cell_type": "markdown",
   "metadata": {},
   "source": [
    "# 2. ML with Torch\n",
    "\n",
    "## 2-1. 지도학습\n",
    "> 정답(Label)이 포함된 데이터 셋을 이용해 학습  \n",
    "\n",
    "분류(classification): 정해진 범주에 따라 분류  \n",
    "회귀(regression): 특성(feature)을 기준으로 연속된 값을 그래프로 표현하여 패턴이란 트랜드 예측  \n",
    "\n",
    "### KNN (K-Nearest Neighbor)\n",
    "- K-최근접 이웃 (분류)\n",
    "- 과거 데이터를 저장해두고 비교 수행"
   ]
  },
  {
   "cell_type": "code",
   "execution_count": 32,
   "metadata": {},
   "outputs": [],
   "source": [
    "import numpy as np\n",
    "import pandas as pd\n",
    "import matplotlib.pyplot as plt\n",
    "from sklearn import metrics\n",
    "from sklearn.preprocessing import StandardScaler\n",
    "from sklearn.model_selection import train_test_split\n",
    "from sklearn.neighbors import KNeighborsClassifier\n",
    "\n",
    "dataset = pd.read_csv(\"./iris.data\", names=[\"sepal-length\", \"sepal-width\", \"petal-length\", \"petal-width\", \"Class\"])\n",
    "\n",
    "X = dataset.iloc[:, :-1].values\n",
    "y = dataset.iloc[:, 4].values\n",
    "\n",
    "X_train, X_test, y_train, y_test = train_test_split(X, y, test_size=0.20)"
   ]
  },
  {
   "cell_type": "code",
   "execution_count": 33,
   "metadata": {},
   "outputs": [],
   "source": [
    "s = StandardScaler()\n",
    "X_train = s.fit_transform(X_train)\n",
    "X_test = s.fit_transform(X_test)"
   ]
  },
  {
   "cell_type": "code",
   "execution_count": 42,
   "metadata": {},
   "outputs": [
    {
     "data": {
      "text/plain": [
       "0.7333333333333333"
      ]
     },
     "execution_count": 42,
     "metadata": {},
     "output_type": "execute_result"
    }
   ],
   "source": [
    "knn = KNeighborsClassifier(n_neighbors=50)\n",
    "knn.fit(X_train, y_train)\n",
    "\n",
    "y_pred = knn.predict(X_test)\n",
    "metrics.accuracy_score(y_pred, y_test)"
   ]
  },
  {
   "cell_type": "code",
   "execution_count": 50,
   "metadata": {},
   "outputs": [
    {
     "name": "stdout",
     "output_type": "stream",
     "text": [
      "Best K = 4 with 0.7333333333333333\n"
     ]
    }
   ],
   "source": [
    "# 최적의 K값 찾기 (하이퍼파리미터 튜닝)\n",
    "acc_arr = np.zeros(10)\n",
    "for k in np.arange(1, 10+1):\n",
    "    clf = KNeighborsClassifier(n_neighbors=k).fit(X_train, y_train)\n",
    "    y_pred = clf.predict(X_test)\n",
    "    acc = metrics.accuracy_score(y_pred, y_test)\n",
    "    acc_arr[k-1] = acc\n",
    "    \n",
    "max_acc = np.amax(acc_arr)\n",
    "acc_list = list(acc_arr)\n",
    "print(f\"Best K = {acc_list.index(max_acc)+1} with {max_acc}\")"
   ]
  },
  {
   "cell_type": "markdown",
   "metadata": {},
   "source": [
    "### SVM (Support Vector Machine)\n",
    "- 분류를 위한 기준선을 정의하는 모델  \n",
    "- 결정 경계(기준선)를 기준으로 경계의 어느 쪽에 속하는지 분류하는 모델\n",
    "- 마진(margin): 결정 경계와 서포트 벡터 사이의 거리 -> 마진을 최대로하는 것이 목적 -> 이상치\n",
    "- 서포트 벡터: 결정 경계와 가까이 있는 데이터들\n",
    "- 이상치를 허용 -> 소프트 마진 / 허용 안함 -> 하드 마진"
   ]
  },
  {
   "cell_type": "code",
   "execution_count": 52,
   "metadata": {},
   "outputs": [
    {
     "data": {
      "text/plain": [
       "0.7"
      ]
     },
     "execution_count": 52,
     "metadata": {},
     "output_type": "execute_result"
    }
   ],
   "source": [
    "from sklearn import svm\n",
    "\n",
    "svm = svm.SVC(kernel=\"linear\", C=1., gamma=.5) # 커널 = 선형/비선형\n",
    "svm.fit(X_train, y_train)\n",
    "y_pred = svm.predict(X_test)\n",
    "\n",
    "metrics.accuracy_score(y_pred, y_test)"
   ]
  }
 ],
 "metadata": {
  "kernelspec": {
   "display_name": "torch",
   "language": "python",
   "name": "python3"
  },
  "language_info": {
   "codemirror_mode": {
    "name": "ipython",
    "version": 3
   },
   "file_extension": ".py",
   "mimetype": "text/x-python",
   "name": "python",
   "nbconvert_exporter": "python",
   "pygments_lexer": "ipython3",
   "version": "3.9.16"
  },
  "orig_nbformat": 4
 },
 "nbformat": 4,
 "nbformat_minor": 2
}
